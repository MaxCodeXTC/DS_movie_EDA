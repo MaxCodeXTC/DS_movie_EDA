{
 "cells": [
  {
   "cell_type": "markdown",
   "metadata": {},
   "source": [
    "# Data Analysis\n",
    "## Overview\n",
    "\n",
    "In this notebook, we will look at overall trend and descriptive stats, such as what is the most popular films or the most profitable films, the proportion of MPAA, etc., without further diving into the relationship."
   ]
  },
  {
   "cell_type": "code",
   "execution_count": 1,
   "metadata": {},
   "outputs": [],
   "source": [
    "import numpy as np\n",
    "import pandas as pd\n",
    "import matplotlib.pyplot as plt\n",
    "import seaborn as sns\n",
    "%matplotlib inline"
   ]
  },
  {
   "cell_type": "code",
   "execution_count": 11,
   "metadata": {},
   "outputs": [
    {
     "data": {
      "text/html": [
       "<div>\n",
       "<style scoped>\n",
       "    .dataframe tbody tr th:only-of-type {\n",
       "        vertical-align: middle;\n",
       "    }\n",
       "\n",
       "    .dataframe tbody tr th {\n",
       "        vertical-align: top;\n",
       "    }\n",
       "\n",
       "    .dataframe thead th {\n",
       "        text-align: right;\n",
       "    }\n",
       "</style>\n",
       "<table border=\"1\" class=\"dataframe\">\n",
       "  <thead>\n",
       "    <tr style=\"text-align: right;\">\n",
       "      <th></th>\n",
       "      <th>popularity</th>\n",
       "      <th>vote_count</th>\n",
       "      <th>id_x</th>\n",
       "      <th>adult</th>\n",
       "      <th>original_language</th>\n",
       "      <th>title</th>\n",
       "      <th>vote_average</th>\n",
       "      <th>overview</th>\n",
       "      <th>MPAA</th>\n",
       "      <th>year</th>\n",
       "      <th>...</th>\n",
       "      <th>start_year</th>\n",
       "      <th>runtime_minutes</th>\n",
       "      <th>genres</th>\n",
       "      <th>avg_rating_imdb</th>\n",
       "      <th>num_votes_imdb</th>\n",
       "      <th>actors</th>\n",
       "      <th>directors</th>\n",
       "      <th>producers</th>\n",
       "      <th>editors</th>\n",
       "      <th>writers</th>\n",
       "    </tr>\n",
       "  </thead>\n",
       "  <tbody>\n",
       "    <tr>\n",
       "      <td>0</td>\n",
       "      <td>31.998</td>\n",
       "      <td>2653</td>\n",
       "      <td>189</td>\n",
       "      <td>False</td>\n",
       "      <td>en</td>\n",
       "      <td>sin city: a dame to kill for</td>\n",
       "      <td>6.3</td>\n",
       "      <td>Some of Sin City's most hard-boiled citizens c...</td>\n",
       "      <td>R</td>\n",
       "      <td>2014</td>\n",
       "      <td>...</td>\n",
       "      <td>2014</td>\n",
       "      <td>102.0</td>\n",
       "      <td>Crime,Thriller</td>\n",
       "      <td>6.5</td>\n",
       "      <td>140666</td>\n",
       "      <td>Josh Brolin,Mickey Rourke,Jessica Alba,Joseph ...</td>\n",
       "      <td>Frank Miller,Robert Rodriguez</td>\n",
       "      <td>Mark C. Manuel,Sergei Bespalov,Aaron Kaufman,S...</td>\n",
       "      <td>NaN</td>\n",
       "      <td>NaN</td>\n",
       "    </tr>\n",
       "    <tr>\n",
       "      <td>1</td>\n",
       "      <td>14.736</td>\n",
       "      <td>15131</td>\n",
       "      <td>1771</td>\n",
       "      <td>False</td>\n",
       "      <td>en</td>\n",
       "      <td>captain america: the first avenger</td>\n",
       "      <td>6.9</td>\n",
       "      <td>During World War II, Steve Rogers is a sickly ...</td>\n",
       "      <td>PG-13</td>\n",
       "      <td>2011</td>\n",
       "      <td>...</td>\n",
       "      <td>2011</td>\n",
       "      <td>124.0</td>\n",
       "      <td>Action,Adventure,Sci-Fi</td>\n",
       "      <td>6.9</td>\n",
       "      <td>668137</td>\n",
       "      <td>Chris Evans,Samuel L. Jackson,Hugo Weaving,Hay...</td>\n",
       "      <td>Joe Johnston</td>\n",
       "      <td>Kevin Feige</td>\n",
       "      <td>NaN</td>\n",
       "      <td>Jack Kirby,Christopher Markus,Stephen McFeely,...</td>\n",
       "    </tr>\n",
       "    <tr>\n",
       "      <td>2</td>\n",
       "      <td>24.337</td>\n",
       "      <td>10020</td>\n",
       "      <td>1865</td>\n",
       "      <td>False</td>\n",
       "      <td>en</td>\n",
       "      <td>pirates of the caribbean: on stranger tides</td>\n",
       "      <td>6.5</td>\n",
       "      <td>Captain Jack Sparrow crosses paths with a woma...</td>\n",
       "      <td>PG-13</td>\n",
       "      <td>2011</td>\n",
       "      <td>...</td>\n",
       "      <td>2011</td>\n",
       "      <td>136.0</td>\n",
       "      <td>Action,Adventure,Fantasy</td>\n",
       "      <td>6.6</td>\n",
       "      <td>447624</td>\n",
       "      <td>Johnny Depp,Geoffrey Rush,Ian McShane,Penélope...</td>\n",
       "      <td>Rob Marshall</td>\n",
       "      <td>NaN</td>\n",
       "      <td>NaN</td>\n",
       "      <td>Stuart Beattie,Ted Elliott,Terry Rossio,Tim Po...</td>\n",
       "    </tr>\n",
       "  </tbody>\n",
       "</table>\n",
       "<p>3 rows × 27 columns</p>\n",
       "</div>"
      ],
      "text/plain": [
       "   popularity  vote_count  id_x  adult original_language  \\\n",
       "0      31.998        2653   189  False                en   \n",
       "1      14.736       15131  1771  False                en   \n",
       "2      24.337       10020  1865  False                en   \n",
       "\n",
       "                                         title  vote_average  \\\n",
       "0                 sin city: a dame to kill for           6.3   \n",
       "1           captain america: the first avenger           6.9   \n",
       "2  pirates of the caribbean: on stranger tides           6.5   \n",
       "\n",
       "                                            overview   MPAA  year  ...  \\\n",
       "0  Some of Sin City's most hard-boiled citizens c...      R  2014  ...   \n",
       "1  During World War II, Steve Rogers is a sickly ...  PG-13  2011  ...   \n",
       "2  Captain Jack Sparrow crosses paths with a woma...  PG-13  2011  ...   \n",
       "\n",
       "  start_year  runtime_minutes                    genres  avg_rating_imdb  \\\n",
       "0       2014            102.0            Crime,Thriller              6.5   \n",
       "1       2011            124.0   Action,Adventure,Sci-Fi              6.9   \n",
       "2       2011            136.0  Action,Adventure,Fantasy              6.6   \n",
       "\n",
       "  num_votes_imdb                                             actors  \\\n",
       "0         140666  Josh Brolin,Mickey Rourke,Jessica Alba,Joseph ...   \n",
       "1         668137  Chris Evans,Samuel L. Jackson,Hugo Weaving,Hay...   \n",
       "2         447624  Johnny Depp,Geoffrey Rush,Ian McShane,Penélope...   \n",
       "\n",
       "                       directors  \\\n",
       "0  Frank Miller,Robert Rodriguez   \n",
       "1                   Joe Johnston   \n",
       "2                   Rob Marshall   \n",
       "\n",
       "                                           producers  editors  \\\n",
       "0  Mark C. Manuel,Sergei Bespalov,Aaron Kaufman,S...      NaN   \n",
       "1                                        Kevin Feige      NaN   \n",
       "2                                                NaN      NaN   \n",
       "\n",
       "                                             writers  \n",
       "0                                                NaN  \n",
       "1  Jack Kirby,Christopher Markus,Stephen McFeely,...  \n",
       "2  Stuart Beattie,Ted Elliott,Terry Rossio,Tim Po...  \n",
       "\n",
       "[3 rows x 27 columns]"
      ]
     },
     "execution_count": 11,
     "metadata": {},
     "output_type": "execute_result"
    }
   ],
   "source": [
    "#loading data\n",
    "df = pd.read_csv('data/profit_data.csv', index_col = 0)\n",
    "df.head(3)"
   ]
  },
  {
   "cell_type": "code",
   "execution_count": 12,
   "metadata": {},
   "outputs": [
    {
     "data": {
      "text/plain": [
       "Index(['popularity', 'vote_count', 'id_x', 'adult', 'original_language',\n",
       "       'title', 'vote_average', 'overview', 'MPAA', 'year', 'studio',\n",
       "       'production_budget', 'domestic_gross', 'worldwide_gross', 'tconst',\n",
       "       'primary_title', 'original_title', 'start_year', 'runtime_minutes',\n",
       "       'genres', 'avg_rating_imdb', 'num_votes_imdb', 'actors', 'directors',\n",
       "       'producers', 'editors', 'writers'],\n",
       "      dtype='object')"
      ]
     },
     "execution_count": 12,
     "metadata": {},
     "output_type": "execute_result"
    }
   ],
   "source": [
    "df.columns"
   ]
  },
  {
   "cell_type": "markdown",
   "metadata": {},
   "source": [
    "## Overall "
   ]
  },
  {
   "cell_type": "markdown",
   "metadata": {},
   "source": [
    "### Number of films "
   ]
  },
  {
   "cell_type": "code",
   "execution_count": 13,
   "metadata": {},
   "outputs": [
    {
     "name": "stdout",
     "output_type": "stream",
     "text": [
      "We currently have 1218 values in our dataset\n"
     ]
    }
   ],
   "source": [
    "print(f\"We currently have {len(df)} values in our dataset\")"
   ]
  },
  {
   "cell_type": "code",
   "execution_count": 14,
   "metadata": {},
   "outputs": [
    {
     "name": "stdout",
     "output_type": "stream",
     "text": [
      "Out of which 1192 films with unique name\n"
     ]
    }
   ],
   "source": [
    "print(f\"Out of which {df.title.nunique()} films with unique name\")"
   ]
  },
  {
   "cell_type": "code",
   "execution_count": 15,
   "metadata": {},
   "outputs": [
    {
     "data": {
      "text/plain": [
       "popularity              0\n",
       "vote_count              0\n",
       "id_x                    0\n",
       "adult                   0\n",
       "original_language       0\n",
       "title                   0\n",
       "vote_average            0\n",
       "overview                0\n",
       "MPAA                  135\n",
       "year                    0\n",
       "studio                200\n",
       "production_budget       0\n",
       "domestic_gross          0\n",
       "worldwide_gross         0\n",
       "tconst                  0\n",
       "primary_title           0\n",
       "original_title          0\n",
       "start_year              0\n",
       "runtime_minutes         4\n",
       "genres                  2\n",
       "avg_rating_imdb         0\n",
       "num_votes_imdb          0\n",
       "actors                  9\n",
       "directors              37\n",
       "producers             143\n",
       "editors              1068\n",
       "writers               183\n",
       "dtype: int64"
      ]
     },
     "execution_count": 15,
     "metadata": {},
     "output_type": "execute_result"
    }
   ],
   "source": [
    "df.isnull().sum()"
   ]
  },
  {
   "cell_type": "markdown",
   "metadata": {},
   "source": [
    "### MPAA Distribution"
   ]
  },
  {
   "cell_type": "code",
   "execution_count": 37,
   "metadata": {},
   "outputs": [
    {
     "data": {
      "image/png": "[encoded data removed]",
      "text/plain": [
       "<Figure size 432x288 with 1 Axes>"
      ]
     },
     "metadata": {
      "needs_background": "light"
     },
     "output_type": "display_data"
    }
   ],
   "source": [
    "Y = df.MPAA.value_counts(normalize = True)\n",
    "X = Y.index\n",
    "\n",
    "sns.barplot(X, Y)\n",
    "plt.title(\"Distribution of MPAA\")\n",
    "plt.ylabel(\"Percentage (%)\")\n",
    "plt.show()"
   ]
  },
  {
   "cell_type": "markdown",
   "metadata": {},
   "source": [
    "### Studio Distribution "
   ]
  },
  {
   "cell_type": "code",
   "execution_count": 38,
   "metadata": {},
   "outputs": [
    {
     "data": {
      "image/png": "[encoded data removed]",
      "text/plain": [
       "<Figure size 432x288 with 1 Axes>"
      ]
     },
     "metadata": {
      "needs_background": "light"
     },
     "output_type": "display_data"
    }
   ],
   "source": [
    "Y = df.studio.value_counts(normalize = True)[0:10]\n",
    "X = Y.index\n",
    "\n",
    "sns.barplot(X, Y)\n",
    "plt.title(\"Distribution of Studio\")\n",
    "plt.ylabel(\"Percentage (%)\")\n",
    "plt.show()"
   ]
  },
  {
   "cell_type": "markdown",
   "metadata": {},
   "source": [
    "### Original Language distribution"
   ]
  },
  {
   "cell_type": "code",
   "execution_count": 39,
   "metadata": {},
   "outputs": [
    {
     "data": {
      "image/png": "[encoded data removed]",
      "text/plain": [
       "<Figure size 432x288 with 1 Axes>"
      ]
     },
     "metadata": {
      "needs_background": "light"
     },
     "output_type": "display_data"
    }
   ],
   "source": [
    "Y = df.original_language.value_counts(normalize = True)[0:10]\n",
    "X = Y.index\n",
    "\n",
    "sns.barplot(X, Y)\n",
    "plt.title(\"Distribution of Original Language\")\n",
    "plt.ylabel(\"Percentage (%)\")\n",
    "plt.show()"
   ]
  },
  {
   "cell_type": "markdown",
   "metadata": {},
   "source": [
    "### Budget Distribution"
   ]
  },
  {
   "cell_type": "code",
   "execution_count": 45,
   "metadata": {},
   "outputs": [
    {
     "data": {
      "image/png": "[encoded data removed]",
      "text/plain": [
       "<Figure size 432x288 with 1 Axes>"
      ]
     },
     "metadata": {
      "needs_background": "light"
     },
     "output_type": "display_data"
    }
   ],
   "source": [
    "Y = df.production_budget.sort_values()\n",
    "\n",
    "sns.distplot(Y)\n",
    "plt.title(\"Distribution of production budget (Million $)\")\n",
    "plt.xlabel(\"Million $\")\n",
    "plt.xlim([0, 500])\n",
    "plt.show()"
   ]
  },
  {
   "cell_type": "markdown",
   "metadata": {},
   "source": [
    "### Gross Distribution (domestic, worldwide)"
   ]
  },
  {
   "cell_type": "code",
   "execution_count": 55,
   "metadata": {},
   "outputs": [
    {
     "data": {
      "image/png": "[encoded data removed]",
      "text/plain": [
       "<Figure size 432x288 with 1 Axes>"
      ]
     },
     "metadata": {
      "needs_background": "light"
     },
     "output_type": "display_data"
    }
   ],
   "source": [
    "Y = df.domestic_gross.sort_values()\n",
    "Z = df.worldwide_gross.sort_values()\n",
    "sns.distplot(Y, label = 'domestic', hist = False)\n",
    "sns.distplot(Z, label = 'worldwide', hist = False)\n",
    "\n",
    "plt.title(\"Distribution of Gross Revenue (Million $)\")\n",
    "plt.legend()\n",
    "plt.xlabel(\"Million $\")\n",
    "plt.xlim([0, 1000])\n",
    "plt.show()"
   ]
  },
  {
   "cell_type": "markdown",
   "metadata": {},
   "source": [
    "### Budget to Gross Domestic"
   ]
  },
  {
   "cell_type": "code",
   "execution_count": 72,
   "metadata": {},
   "outputs": [
    {
     "data": {
      "image/png": "[encoded data removed]",
      "text/plain": [
       "<Figure size 864x432 with 2 Axes>"
      ]
     },
     "metadata": {
      "needs_background": "light"
     },
     "output_type": "display_data"
    }
   ],
   "source": [
    "tmp = df[['production_budget', 'domestic_gross', 'worldwide_gross']].sort_values(by = 'production_budget')\n",
    "X = tmp['production_budget']\n",
    "Y = tmp['domestic_gross']\n",
    "Z = tmp['worldwide_gross']\n",
    "\n",
    "fig = plt.figure(figsize = (12, 6))\n",
    "ax1 = fig.add_subplot(121)\n",
    "ax2 = fig.add_subplot(122)\n",
    "\n",
    "ax1.scatter(X, Y)\n",
    "ax2.scatter(X, Z, c = 'orange')\n",
    "\n",
    "fig.suptitle(\"Budget to Gross Revenue (Million $)\")\n",
    "ax1.set_ylabel(\"domestic gross\")\n",
    "ax2.set_ylabel(\"worldwide gross\")\n",
    "ax1.set_xlabel(\"production budget\")\n",
    "ax2.set_xlabel(\"production budget\")\n",
    "ax1.set_ylim([0,2000])\n",
    "ax2.set_ylim([0,2000])\n",
    "\n",
    "\n",
    "plt.show()\n"
   ]
  },
  {
   "cell_type": "markdown",
   "metadata": {},
   "source": [
    "### Average Runtimes"
   ]
  },
  {
   "cell_type": "code",
   "execution_count": 80,
   "metadata": {},
   "outputs": [
    {
     "data": {
      "image/png": "[encoded data removed]",
      "text/plain": [
       "<Figure size 432x288 with 1 Axes>"
      ]
     },
     "metadata": {
      "needs_background": "light"
     },
     "output_type": "display_data"
    }
   ],
   "source": [
    "Y = df.runtime_minutes.dropna().sort_values()\n",
    "\n",
    "sns.distplot(Y)\n",
    "\n",
    "plt.title(\"Distribution of Average Runtimes (Minutes)\")\n",
    "plt.xlabel(\"Miutes\")\n",
    "plt.show()"
   ]
  },
  {
   "cell_type": "markdown",
   "metadata": {},
   "source": [
    "### Genres Distribution"
   ]
  },
  {
   "cell_type": "code",
   "execution_count": 107,
   "metadata": {},
   "outputs": [
    {
     "data": {
      "image/png": "[encoded data removed]",
      "text/plain": [
       "<Figure size 1080x432 with 1 Axes>"
      ]
     },
     "metadata": {
      "needs_background": "light"
     },
     "output_type": "display_data"
    }
   ],
   "source": [
    "df['primary_genre'] = df.genres.str.split(',', n = 1, expand = True)[0]\n",
    "\n",
    "Y = df['primary_genre'].value_counts(normalize = True)\n",
    "X = Y.index\n",
    "\n",
    "fig = plt.figure(figsize = (15, 6))\n",
    "sns.barplot(X, Y)\n",
    "plt.title(\"Distribution of Genres (Primary Genre per movie)\")\n",
    "plt.ylabel(\"Percentage (%)\")\n",
    "plt.show()\n"
   ]
  },
  {
   "cell_type": "markdown",
   "metadata": {},
   "source": [
    "## Popularity"
   ]
  },
  {
   "cell_type": "markdown",
   "metadata": {},
   "source": [
    "### What are the most popular films? (Based on the TMDB popularity data)"
   ]
  },
  {
   "cell_type": "code",
   "execution_count": 111,
   "metadata": {},
   "outputs": [
    {
     "data": {
      "text/plain": [
       "594              journey 2: the mysterious island\n",
       "1898                       avengers: infinity war\n",
       "1146                                 interstellar\n",
       "65                                      inception\n",
       "991     the hobbit: the battle of the five armies\n",
       "2775                                      aladdin\n",
       "916                                        frozen\n",
       "862                  teenage mutant ninja turtles\n",
       "1025        the hunger games: mockingjay - part 1\n",
       "1236                                   big hero 6\n",
       "Name: title, dtype: object"
      ]
     },
     "execution_count": 111,
     "metadata": {},
     "output_type": "execute_result"
    }
   ],
   "source": [
    "df.sort_values(by='popularity', ascending = False).title[0:10]"
   ]
  },
  {
   "cell_type": "markdown",
   "metadata": {},
   "source": [
    "## Rating"
   ]
  },
  {
   "cell_type": "markdown",
   "metadata": {},
   "source": [
    "### What are the highest rated films? (IMDB)"
   ]
  },
  {
   "cell_type": "code",
   "execution_count": 128,
   "metadata": {},
   "outputs": [
    {
     "data": {
      "text/plain": [
       "65                   inception\n",
       "1146              interstellar\n",
       "1898    avengers: infinity war\n",
       "1529                  whiplash\n",
       "2355                    dangal\n",
       "540           django unchained\n",
       "2331                      coco\n",
       "315      the dark knight rises\n",
       "243                 inside job\n",
       "12                 toy story 3\n",
       "Name: title, dtype: object"
      ]
     },
     "execution_count": 128,
     "metadata": {},
     "output_type": "execute_result"
    }
   ],
   "source": [
    "df.sort_values(by='avg_rating_imdb', ascending = False).title[0:10]"
   ]
  },
  {
   "cell_type": "markdown",
   "metadata": {},
   "source": [
    "## Revenue to Budget Ratio \n",
    "We will assume that high revenue to production budget ratio means high profitability."
   ]
  },
  {
   "cell_type": "code",
   "execution_count": 129,
   "metadata": {},
   "outputs": [],
   "source": [
    "df['rev2bud_dom'] = df.domestic_gross/df.production_budget\n",
    "df['rev2bud_int'] = df.worldwide_gross/df.production_budget"
   ]
  },
  {
   "cell_type": "markdown",
   "metadata": {},
   "source": [
    "### Which films have the best budget to gross ratio since 2000? Internationally and domestically?"
   ]
  },
  {
   "cell_type": "code",
   "execution_count": 130,
   "metadata": {},
   "outputs": [
    {
     "data": {
      "text/plain": [
       "1896              the gallows\n",
       "651          the devil inside\n",
       "2760                  get out\n",
       "192     paranormal activity 2\n",
       "135         the last exorcism\n",
       "2044                 war room\n",
       "1166                the purge\n",
       "597     paranormal activity 3\n",
       "2450                moonlight\n",
       "834         chernobyl diaries\n",
       "Name: title, dtype: object"
      ]
     },
     "execution_count": 130,
     "metadata": {},
     "output_type": "execute_result"
    }
   ],
   "source": [
    "df.sort_values(by='rev2bud_dom', ascending = False).title[0:10]"
   ]
  },
  {
   "cell_type": "markdown",
   "metadata": {},
   "source": [
    "### Which studios have the highest revenue to budget ratio? Internationally and domestically?"
   ]
  },
  {
   "cell_type": "code",
   "execution_count": 131,
   "metadata": {},
   "outputs": [
    {
     "data": {
      "text/plain": [
       "1896              the gallows\n",
       "651          the devil inside\n",
       "192     paranormal activity 2\n",
       "2760                  get out\n",
       "2450                moonlight\n",
       "834         chernobyl diaries\n",
       "597     paranormal activity 3\n",
       "1553                annabelle\n",
       "135         the last exorcism\n",
       "2355                   dangal\n",
       "Name: title, dtype: object"
      ]
     },
     "execution_count": 131,
     "metadata": {},
     "output_type": "execute_result"
    }
   ],
   "source": [
    "df.sort_values(by='rev2bud_int', ascending = False).title[0:10]"
   ]
  },
  {
   "cell_type": "markdown",
   "metadata": {},
   "source": [
    "It seems like horror movies yields generally high revenue to budget. This is worth exploring further.\n"
   ]
  },
  {
   "cell_type": "code",
   "execution_count": null,
   "metadata": {},
   "outputs": [],
   "source": []
  },
  {
   "cell_type": "code",
   "execution_count": null,
   "metadata": {},
   "outputs": [],
   "source": []
  },
  {
   "cell_type": "code",
   "execution_count": null,
   "metadata": {},
   "outputs": [],
   "source": []
  },
  {
   "cell_type": "code",
   "execution_count": null,
   "metadata": {},
   "outputs": [],
   "source": []
  },
  {
   "cell_type": "code",
   "execution_count": null,
   "metadata": {},
   "outputs": [],
   "source": []
  }
 ],
 "metadata": {
  "kernelspec": {
   "display_name": "Python 3",
   "language": "python",
   "name": "python3"
  },
  "language_info": {
   "codemirror_mode": {
    "name": "ipython",
    "version": 3
   },
   "file_extension": ".py",
   "mimetype": "text/x-python",
   "name": "python",
   "nbconvert_exporter": "python",
   "pygments_lexer": "ipython3",
   "version": "3.7.4"
  }
 },
 "nbformat": 4,
 "nbformat_minor": 2
}
