{
 "cells": [
  {
   "cell_type": "markdown",
   "metadata": {},
   "source": [
    "# Data Analysis\n",
    "## People\n",
    "\n",
    "In this notebook, we will see how leading personnels (e.g. cast, writer, director, etc.) influence the success of the film. Additionally we will see if the trend is different for domestic sales vs. worldwide."
   ]
  },
  {
   "cell_type": "code",
   "execution_count": 2,
   "metadata": {},
   "outputs": [],
   "source": [
    "import numpy as np\n",
    "import pandas as pd\n",
    "import matplotlib.pyplot as plt\n",
    "import seaborn as sns\n",
    "%matplotlib inline"
   ]
  },
  {
   "cell_type": "code",
   "execution_count": 3,
   "metadata": {},
   "outputs": [
    {
     "data": {
      "text/html": [
       "<div>\n",
       "<style scoped>\n",
       "    .dataframe tbody tr th:only-of-type {\n",
       "        vertical-align: middle;\n",
       "    }\n",
       "\n",
       "    .dataframe tbody tr th {\n",
       "        vertical-align: top;\n",
       "    }\n",
       "\n",
       "    .dataframe thead th {\n",
       "        text-align: right;\n",
       "    }\n",
       "</style>\n",
       "<table border=\"1\" class=\"dataframe\">\n",
       "  <thead>\n",
       "    <tr style=\"text-align: right;\">\n",
       "      <th></th>\n",
       "      <th>popularity</th>\n",
       "      <th>vote_count</th>\n",
       "      <th>id_x</th>\n",
       "      <th>adult</th>\n",
       "      <th>original_language</th>\n",
       "      <th>title</th>\n",
       "      <th>vote_average</th>\n",
       "      <th>overview</th>\n",
       "      <th>MPAA</th>\n",
       "      <th>year</th>\n",
       "      <th>...</th>\n",
       "      <th>start_year</th>\n",
       "      <th>runtime_minutes</th>\n",
       "      <th>genres</th>\n",
       "      <th>avg_rating_imdb</th>\n",
       "      <th>num_votes_imdb</th>\n",
       "      <th>actors</th>\n",
       "      <th>directors</th>\n",
       "      <th>producers</th>\n",
       "      <th>editors</th>\n",
       "      <th>writers</th>\n",
       "    </tr>\n",
       "  </thead>\n",
       "  <tbody>\n",
       "    <tr>\n",
       "      <td>0</td>\n",
       "      <td>31.998</td>\n",
       "      <td>2653</td>\n",
       "      <td>189</td>\n",
       "      <td>False</td>\n",
       "      <td>en</td>\n",
       "      <td>sin city: a dame to kill for</td>\n",
       "      <td>6.3</td>\n",
       "      <td>Some of Sin City's most hard-boiled citizens c...</td>\n",
       "      <td>R</td>\n",
       "      <td>2014</td>\n",
       "      <td>...</td>\n",
       "      <td>2014</td>\n",
       "      <td>102.0</td>\n",
       "      <td>Crime,Thriller</td>\n",
       "      <td>6.5</td>\n",
       "      <td>140666</td>\n",
       "      <td>Josh Brolin,Mickey Rourke,Jessica Alba,Joseph ...</td>\n",
       "      <td>Frank Miller,Robert Rodriguez</td>\n",
       "      <td>Mark C. Manuel,Sergei Bespalov,Aaron Kaufman,S...</td>\n",
       "      <td>NaN</td>\n",
       "      <td>NaN</td>\n",
       "    </tr>\n",
       "    <tr>\n",
       "      <td>1</td>\n",
       "      <td>14.736</td>\n",
       "      <td>15131</td>\n",
       "      <td>1771</td>\n",
       "      <td>False</td>\n",
       "      <td>en</td>\n",
       "      <td>captain america: the first avenger</td>\n",
       "      <td>6.9</td>\n",
       "      <td>During World War II, Steve Rogers is a sickly ...</td>\n",
       "      <td>PG-13</td>\n",
       "      <td>2011</td>\n",
       "      <td>...</td>\n",
       "      <td>2011</td>\n",
       "      <td>124.0</td>\n",
       "      <td>Action,Adventure,Sci-Fi</td>\n",
       "      <td>6.9</td>\n",
       "      <td>668137</td>\n",
       "      <td>Chris Evans,Samuel L. Jackson,Hugo Weaving,Hay...</td>\n",
       "      <td>Joe Johnston</td>\n",
       "      <td>Kevin Feige</td>\n",
       "      <td>NaN</td>\n",
       "      <td>Jack Kirby,Christopher Markus,Stephen McFeely,...</td>\n",
       "    </tr>\n",
       "    <tr>\n",
       "      <td>2</td>\n",
       "      <td>24.337</td>\n",
       "      <td>10020</td>\n",
       "      <td>1865</td>\n",
       "      <td>False</td>\n",
       "      <td>en</td>\n",
       "      <td>pirates of the caribbean: on stranger tides</td>\n",
       "      <td>6.5</td>\n",
       "      <td>Captain Jack Sparrow crosses paths with a woma...</td>\n",
       "      <td>PG-13</td>\n",
       "      <td>2011</td>\n",
       "      <td>...</td>\n",
       "      <td>2011</td>\n",
       "      <td>136.0</td>\n",
       "      <td>Action,Adventure,Fantasy</td>\n",
       "      <td>6.6</td>\n",
       "      <td>447624</td>\n",
       "      <td>Johnny Depp,Geoffrey Rush,Ian McShane,Penélope...</td>\n",
       "      <td>Rob Marshall</td>\n",
       "      <td>NaN</td>\n",
       "      <td>NaN</td>\n",
       "      <td>Stuart Beattie,Ted Elliott,Terry Rossio,Tim Po...</td>\n",
       "    </tr>\n",
       "  </tbody>\n",
       "</table>\n",
       "<p>3 rows × 28 columns</p>\n",
       "</div>"
      ],
      "text/plain": [
       "   popularity  vote_count  id_x  adult original_language  \\\n",
       "0      31.998        2653   189  False                en   \n",
       "1      14.736       15131  1771  False                en   \n",
       "2      24.337       10020  1865  False                en   \n",
       "\n",
       "                                         title  vote_average  \\\n",
       "0                 sin city: a dame to kill for           6.3   \n",
       "1           captain america: the first avenger           6.9   \n",
       "2  pirates of the caribbean: on stranger tides           6.5   \n",
       "\n",
       "                                            overview   MPAA  year  ...  \\\n",
       "0  Some of Sin City's most hard-boiled citizens c...      R  2014  ...   \n",
       "1  During World War II, Steve Rogers is a sickly ...  PG-13  2011  ...   \n",
       "2  Captain Jack Sparrow crosses paths with a woma...  PG-13  2011  ...   \n",
       "\n",
       "   start_year runtime_minutes                    genres  avg_rating_imdb  \\\n",
       "0        2014           102.0            Crime,Thriller              6.5   \n",
       "1        2011           124.0   Action,Adventure,Sci-Fi              6.9   \n",
       "2        2011           136.0  Action,Adventure,Fantasy              6.6   \n",
       "\n",
       "   num_votes_imdb                                             actors  \\\n",
       "0          140666  Josh Brolin,Mickey Rourke,Jessica Alba,Joseph ...   \n",
       "1          668137  Chris Evans,Samuel L. Jackson,Hugo Weaving,Hay...   \n",
       "2          447624  Johnny Depp,Geoffrey Rush,Ian McShane,Penélope...   \n",
       "\n",
       "                       directors  \\\n",
       "0  Frank Miller,Robert Rodriguez   \n",
       "1                   Joe Johnston   \n",
       "2                   Rob Marshall   \n",
       "\n",
       "                                           producers  editors  \\\n",
       "0  Mark C. Manuel,Sergei Bespalov,Aaron Kaufman,S...      NaN   \n",
       "1                                        Kevin Feige      NaN   \n",
       "2                                                NaN      NaN   \n",
       "\n",
       "                                             writers  \n",
       "0                                                NaN  \n",
       "1  Jack Kirby,Christopher Markus,Stephen McFeely,...  \n",
       "2  Stuart Beattie,Ted Elliott,Terry Rossio,Tim Po...  \n",
       "\n",
       "[3 rows x 28 columns]"
      ]
     },
     "execution_count": 3,
     "metadata": {},
     "output_type": "execute_result"
    }
   ],
   "source": [
    "#loading data\n",
    "df = pd.read_csv('data/profit_data.csv', index_col = 0)\n",
    "df.head(3)"
   ]
  },
  {
   "cell_type": "code",
   "execution_count": 4,
   "metadata": {},
   "outputs": [],
   "source": [
    "# Adding rev to cost ratios \n",
    "df['rev2bud_dom'] = df.domestic_gross/df.production_budget\n",
    "df['rev2bud_int'] = df.worldwide_gross/df.production_budget"
   ]
  },
  {
   "cell_type": "code",
   "execution_count": 5,
   "metadata": {},
   "outputs": [],
   "source": [
    "# add primary genre\n",
    "df['primary_genre'] = df.genres.str.split(',', expand = True)[0]"
   ]
  },
  {
   "cell_type": "code",
   "execution_count": 6,
   "metadata": {},
   "outputs": [],
   "source": [
    "# add top 4 main actors\n",
    "actors = df.actors.str.split(',', expand = True)\n",
    "df['cast_1'] = actors[0]\n",
    "df['cast_2'] = actors[1]\n",
    "df['cast_3'] = actors[2]\n",
    "df['cast_4'] = actors[3]\n"
   ]
  },
  {
   "cell_type": "code",
   "execution_count": 7,
   "metadata": {},
   "outputs": [],
   "source": [
    "# add the main director\n",
    "directors = df.directors.str.split(',', expand = True)\n",
    "df['main_director'] = directors[0]\n"
   ]
  },
  {
   "cell_type": "code",
   "execution_count": 8,
   "metadata": {},
   "outputs": [],
   "source": [
    "# add the main writer\n",
    "writers = df.writers.str.split(',', expand = True)\n",
    "df['main_writer'] = writers[0]\n"
   ]
  },
  {
   "cell_type": "markdown",
   "metadata": {},
   "source": [
    "#### Standardizing Popularity & Rating\n",
    "Also we have 'popularity' measure from TMDB, and ratings from IMDB. We will standardize these scores to compare within the curret database. \n"
   ]
  },
  {
   "cell_type": "code",
   "execution_count": 9,
   "metadata": {},
   "outputs": [],
   "source": [
    "df['popularity_z'] = df.popularity.apply(lambda x: (x-df.popularity.mean())/(df.popularity.std()))\n",
    "df['rating_z_IMDB'] = df.avg_rating_imdb.apply(lambda x: (x-df.avg_rating_imdb.mean())/(df.avg_rating_imdb.std()))\n"
   ]
  },
  {
   "cell_type": "markdown",
   "metadata": {},
   "source": [
    "## Directors"
   ]
  },
  {
   "cell_type": "markdown",
   "metadata": {},
   "source": [
    "### Prolific Directors"
   ]
  },
  {
   "cell_type": "code",
   "execution_count": 10,
   "metadata": {},
   "outputs": [
    {
     "name": "stdout",
     "output_type": "stream",
     "text": [
      "Out of 745 directors in our dataset, \n",
      "Steven Spielberg is the most prolific director with 7 movies since 2010.\n"
     ]
    }
   ],
   "source": [
    "num_films_p_dirs = df.groupby('main_director').title.count().sort_values(ascending = False)\n",
    "\n",
    "print(\"\"\"Out of {} directors in our dataset, \n",
    "{} is the most prolific director with {} movies since 2010.\"\"\".format(len(num_films_p_dirs), num_films_p_dirs.index[0], num_films_p_dirs[0]))\n"
   ]
  },
  {
   "cell_type": "markdown",
   "metadata": {},
   "source": [
    "### Top 20 Grossing Directors (Worldwide)"
   ]
  },
  {
   "cell_type": "code",
   "execution_count": 11,
   "metadata": {},
   "outputs": [],
   "source": [
    "dirdf = df[['title', 'worldwide_gross', 'rev2bud_int', 'rev2bud_dom', 'domestic_gross', 'rating_z_IMDB', 'popularity_z', 'production_budget', 'main_director']]\n"
   ]
  },
  {
   "cell_type": "code",
   "execution_count": 12,
   "metadata": {},
   "outputs": [],
   "source": [
    "# Select top 20 directors with highest worldwide grossing\n",
    "top20 = dirdf.groupby('main_director')['worldwide_gross', 'domestic_gross', 'production_budget']\\\n",
    ".sum().sort_values(by = 'worldwide_gross', ascending = False)[0:20]"
   ]
  },
  {
   "cell_type": "code",
   "execution_count": 13,
   "metadata": {},
   "outputs": [],
   "source": [
    "# For these directors, get average IMDB rating and TMDB popularity scores. \n",
    "top20_names = top20.index\n",
    "top20_subdf = dirdf[dirdf.main_director.isin(top20_names)].groupby('main_director')['rating_z_IMDB', 'popularity_z'].mean()\n",
    "# Merge datasets\n",
    "top20 = top20.join(top20_subdf)\n",
    "top20 = top20.reset_index()"
   ]
  },
  {
   "cell_type": "code",
   "execution_count": 15,
   "metadata": {},
   "outputs": [
    {
     "data": {
      "text/plain": [
       "<Figure size 720x432 with 0 Axes>"
      ]
     },
     "metadata": {},
     "output_type": "display_data"
    },
    {
     "data": {
      "image/png": "[encoded data removed]",
      "text/plain": [
       "<Figure size 850.125x360 with 1 Axes>"
      ]
     },
     "metadata": {
      "needs_background": "light"
     },
     "output_type": "display_data"
    }
   ],
   "source": [
    "tmp = pd.melt(top20, id_vars=['main_director'], value_vars=['worldwide_gross', 'domestic_gross', 'production_budget'])\n",
    "\n",
    "fig = plt.figure(figsize = (10,6))\n",
    "g = sns.catplot(x=\"main_director\", y=\"value\", hue=\"variable\", data=tmp, kind=\"bar\", palette=\"muted\", aspect = 2.)\n",
    "g.set_xticklabels(rotation=90)\n",
    "g.set(title = \"Top 20 Directors with Highest Total Worldwide Grossing\", ylabel = \"Million $\")\n",
    "plt.show()\n"
   ]
  },
  {
   "cell_type": "markdown",
   "metadata": {},
   "source": [
    "Do their IMDB rating and TMDB popularity measure up?"
   ]
  },
  {
   "cell_type": "code",
   "execution_count": 16,
   "metadata": {},
   "outputs": [
    {
     "data": {
      "image/png": "[encoded data removed]",
      "text/plain": [
       "<Figure size 1080x432 with 2 Axes>"
      ]
     },
     "metadata": {
      "needs_background": "light"
     },
     "output_type": "display_data"
    }
   ],
   "source": [
    "fig = plt.figure(figsize = (15, 6))\n",
    "ax1 = fig.add_subplot(121)\n",
    "ax2 = fig.add_subplot(122)\n",
    "sns.barplot(top20.main_director, top20.popularity_z, ax = ax1)\n",
    "sns.barplot(top20.main_director, top20.rating_z_IMDB, ax = ax2)\n",
    "ax1.set_xticklabels(labels = top20.main_director, rotation=90)\n",
    "ax2.set_xticklabels(labels = top20.main_director, rotation=90)\n",
    "\n",
    "\n",
    "plt.show()"
   ]
  },
  {
   "cell_type": "code",
   "execution_count": 17,
   "metadata": {},
   "outputs": [],
   "source": [
    "# Above plot might be a bit misleading as it doesn't include entire z-score distribution.\n",
    "# In reality, they are more like this: "
   ]
  },
  {
   "cell_type": "code",
   "execution_count": 18,
   "metadata": {},
   "outputs": [
    {
     "data": {
      "image/png": "[encoded data removed]",
      "text/plain": [
       "<Figure size 1080x432 with 2 Axes>"
      ]
     },
     "metadata": {
      "needs_background": "light"
     },
     "output_type": "display_data"
    }
   ],
   "source": [
    "fig = plt.figure(figsize = (15, 6))\n",
    "ax1 = fig.add_subplot(121)\n",
    "ax2 = fig.add_subplot(122)\n",
    "\n",
    "sns.barplot(top20.main_director, top20.popularity_z, ax = ax1)\n",
    "sns.barplot(top20.main_director, top20.rating_z_IMDB, ax = ax2)\n",
    "ax1.set_xticklabels(labels = top20.main_director, rotation=90)\n",
    "ax2.set_xticklabels(labels = top20.main_director, rotation=90)\n",
    "ax1.axhline(1, ls='dotted', c = 'black')\n",
    "ax2.axhline(1, ls='dotted', c = 'black')\n",
    "ax2.axhline(-1, ls='dotted', c = 'black')\n",
    "ax2.axhline(0, ls='-', c = 'black')\n",
    "ax2.axhline(2, ls='dotted', c = 'black')\n",
    "ax1.axhline(2, ls='dotted', c = 'black')\n",
    "ax1.set_ylim([-4, 4])\n",
    "ax2.set_ylim([-4, 4])\n",
    "\n",
    "plt.show()"
   ]
  },
  {
   "cell_type": "markdown",
   "metadata": {},
   "source": [
    "These directors yielded highest cumulative grossing worldwide.  \n",
    "But some might have been just more productive in the past decade.  \n",
    "Let's look at the directors with highest average grossing per movie."
   ]
  },
  {
   "cell_type": "code",
   "execution_count": 19,
   "metadata": {},
   "outputs": [],
   "source": [
    "# Select top 20 directors with highest worldwide grossing\n",
    "top20_mean = dirdf.groupby('main_director')['worldwide_gross', 'domestic_gross', 'production_budget', 'rating_z_IMDB', 'popularity_z']\\\n",
    ".mean().sort_values(by = 'worldwide_gross', ascending = False)[0:20]"
   ]
  },
  {
   "cell_type": "code",
   "execution_count": 20,
   "metadata": {},
   "outputs": [
    {
     "data": {
      "text/plain": [
       "<Figure size 1440x720 with 0 Axes>"
      ]
     },
     "metadata": {},
     "output_type": "display_data"
    },
    {
     "data": {
      "image/png": "[encoded data removed]",
      "text/plain": [
       "<Figure size 850.125x360 with 1 Axes>"
      ]
     },
     "metadata": {
      "needs_background": "light"
     },
     "output_type": "display_data"
    }
   ],
   "source": [
    "top20_mean = top20_mean.reset_index()\n",
    "tmp = pd.melt(top20_mean, id_vars=['main_director'], value_vars=['worldwide_gross', 'domestic_gross', 'production_budget'])\n",
    "\n",
    "fig = plt.figure(figsize = (20,10))\n",
    "g = sns.catplot(x=\"main_director\", y=\"value\", hue=\"variable\", data=tmp, kind=\"bar\", palette=\"muted\", aspect = 2)\n",
    "g.set_xticklabels(rotation=90)\n",
    "g.set(title = \"Top 20 Directors with Highest Average Worldwide Grossing\", ylabel = \"Million $\")\n",
    "plt.show()\n"
   ]
  },
  {
   "cell_type": "code",
   "execution_count": 21,
   "metadata": {},
   "outputs": [
    {
     "data": {
      "image/png": "[encoded data removed]",
      "text/plain": [
       "<Figure size 1080x432 with 2 Axes>"
      ]
     },
     "metadata": {
      "needs_background": "light"
     },
     "output_type": "display_data"
    }
   ],
   "source": [
    "fig = plt.figure(figsize = (15, 6))\n",
    "ax1 = fig.add_subplot(121)\n",
    "ax2 = fig.add_subplot(122)\n",
    "sns.barplot(top20_mean.main_director, top20_mean.popularity_z, ax = ax1)\n",
    "sns.barplot(top20_mean.main_director, top20_mean.rating_z_IMDB, ax = ax2)\n",
    "ax1.set_xticklabels(labels = top20_mean.main_director, rotation=90)\n",
    "ax2.set_xticklabels(labels = top20_mean.main_director, rotation=90)\n",
    "\n",
    "\n",
    "plt.show()"
   ]
  },
  {
   "cell_type": "markdown",
   "metadata": {},
   "source": [
    "### Top 10 Highly Rated Directors"
   ]
  },
  {
   "cell_type": "markdown",
   "metadata": {},
   "source": [
    "Which directors made the highest rated movies while keeping high rev to cost ratio?"
   ]
  },
  {
   "cell_type": "markdown",
   "metadata": {},
   "source": [
    "#### Worldwide"
   ]
  },
  {
   "cell_type": "code",
   "execution_count": 22,
   "metadata": {},
   "outputs": [
    {
     "data": {
      "text/html": [
       "<div>\n",
       "<style scoped>\n",
       "    .dataframe tbody tr th:only-of-type {\n",
       "        vertical-align: middle;\n",
       "    }\n",
       "\n",
       "    .dataframe tbody tr th {\n",
       "        vertical-align: top;\n",
       "    }\n",
       "\n",
       "    .dataframe thead th {\n",
       "        text-align: right;\n",
       "    }\n",
       "</style>\n",
       "<table border=\"1\" class=\"dataframe\">\n",
       "  <thead>\n",
       "    <tr style=\"text-align: right;\">\n",
       "      <th></th>\n",
       "      <th>title</th>\n",
       "      <th>worldwide_gross</th>\n",
       "      <th>rev2bud_int</th>\n",
       "      <th>rev2bud_dom</th>\n",
       "      <th>domestic_gross</th>\n",
       "      <th>rating_z_IMDB</th>\n",
       "      <th>popularity_z</th>\n",
       "      <th>production_budget</th>\n",
       "      <th>main_director</th>\n",
       "    </tr>\n",
       "  </thead>\n",
       "  <tbody>\n",
       "    <tr>\n",
       "      <td>2355</td>\n",
       "      <td>dangal</td>\n",
       "      <td>294.65</td>\n",
       "      <td>31.015789</td>\n",
       "      <td>1.304211</td>\n",
       "      <td>12.39</td>\n",
       "      <td>2.194730</td>\n",
       "      <td>0.006483</td>\n",
       "      <td>9.5</td>\n",
       "      <td>Nitesh Tiwari</td>\n",
       "    </tr>\n",
       "    <tr>\n",
       "      <td>1529</td>\n",
       "      <td>whiplash</td>\n",
       "      <td>38.97</td>\n",
       "      <td>11.809091</td>\n",
       "      <td>3.966667</td>\n",
       "      <td>13.09</td>\n",
       "      <td>2.194730</td>\n",
       "      <td>2.104483</td>\n",
       "      <td>3.3</td>\n",
       "      <td>Damien Chazelle</td>\n",
       "    </tr>\n",
       "    <tr>\n",
       "      <td>1898</td>\n",
       "      <td>avengers: infinity war</td>\n",
       "      <td>2048.13</td>\n",
       "      <td>6.827100</td>\n",
       "      <td>2.262733</td>\n",
       "      <td>678.82</td>\n",
       "      <td>2.194730</td>\n",
       "      <td>7.258165</td>\n",
       "      <td>300.0</td>\n",
       "      <td>Anthony Russo</td>\n",
       "    </tr>\n",
       "    <tr>\n",
       "      <td>65</td>\n",
       "      <td>inception</td>\n",
       "      <td>835.52</td>\n",
       "      <td>5.222000</td>\n",
       "      <td>1.828625</td>\n",
       "      <td>292.58</td>\n",
       "      <td>2.513624</td>\n",
       "      <td>5.735627</td>\n",
       "      <td>160.0</td>\n",
       "      <td>Christopher Nolan</td>\n",
       "    </tr>\n",
       "    <tr>\n",
       "      <td>2331</td>\n",
       "      <td>coco</td>\n",
       "      <td>798.01</td>\n",
       "      <td>4.560057</td>\n",
       "      <td>1.198457</td>\n",
       "      <td>209.73</td>\n",
       "      <td>2.088432</td>\n",
       "      <td>1.811387</td>\n",
       "      <td>175.0</td>\n",
       "      <td>Adrian Molina</td>\n",
       "    </tr>\n",
       "    <tr>\n",
       "      <td>540</td>\n",
       "      <td>django unchained</td>\n",
       "      <td>449.95</td>\n",
       "      <td>4.499500</td>\n",
       "      <td>1.628100</td>\n",
       "      <td>162.81</td>\n",
       "      <td>2.088432</td>\n",
       "      <td>1.972565</td>\n",
       "      <td>100.0</td>\n",
       "      <td>Quentin Tarantino</td>\n",
       "    </tr>\n",
       "    <tr>\n",
       "      <td>1146</td>\n",
       "      <td>interstellar</td>\n",
       "      <td>666.38</td>\n",
       "      <td>4.038667</td>\n",
       "      <td>1.139515</td>\n",
       "      <td>188.02</td>\n",
       "      <td>2.301028</td>\n",
       "      <td>6.439837</td>\n",
       "      <td>165.0</td>\n",
       "      <td>Christopher Nolan</td>\n",
       "    </tr>\n",
       "    <tr>\n",
       "      <td>315</td>\n",
       "      <td>the dark knight rises</td>\n",
       "      <td>1084.44</td>\n",
       "      <td>3.943418</td>\n",
       "      <td>1.629600</td>\n",
       "      <td>448.14</td>\n",
       "      <td>2.088432</td>\n",
       "      <td>1.671667</td>\n",
       "      <td>275.0</td>\n",
       "      <td>Christopher Nolan</td>\n",
       "    </tr>\n",
       "  </tbody>\n",
       "</table>\n",
       "</div>"
      ],
      "text/plain": [
       "                       title  worldwide_gross  rev2bud_int  rev2bud_dom  \\\n",
       "2355                  dangal           294.65    31.015789     1.304211   \n",
       "1529                whiplash            38.97    11.809091     3.966667   \n",
       "1898  avengers: infinity war          2048.13     6.827100     2.262733   \n",
       "65                 inception           835.52     5.222000     1.828625   \n",
       "2331                    coco           798.01     4.560057     1.198457   \n",
       "540         django unchained           449.95     4.499500     1.628100   \n",
       "1146            interstellar           666.38     4.038667     1.139515   \n",
       "315    the dark knight rises          1084.44     3.943418     1.629600   \n",
       "\n",
       "      domestic_gross  rating_z_IMDB  popularity_z  production_budget  \\\n",
       "2355           12.39       2.194730      0.006483                9.5   \n",
       "1529           13.09       2.194730      2.104483                3.3   \n",
       "1898          678.82       2.194730      7.258165              300.0   \n",
       "65            292.58       2.513624      5.735627              160.0   \n",
       "2331          209.73       2.088432      1.811387              175.0   \n",
       "540           162.81       2.088432      1.972565              100.0   \n",
       "1146          188.02       2.301028      6.439837              165.0   \n",
       "315           448.14       2.088432      1.671667              275.0   \n",
       "\n",
       "          main_director  \n",
       "2355      Nitesh Tiwari  \n",
       "1529    Damien Chazelle  \n",
       "1898      Anthony Russo  \n",
       "65    Christopher Nolan  \n",
       "2331      Adrian Molina  \n",
       "540   Quentin Tarantino  \n",
       "1146  Christopher Nolan  \n",
       "315   Christopher Nolan  "
      ]
     },
     "execution_count": 22,
     "metadata": {},
     "output_type": "execute_result"
    }
   ],
   "source": [
    "dirdf[dirdf.rating_z_IMDB > 2].sort_values(by=['rev2bud_int'], ascending = False)"
   ]
  },
  {
   "cell_type": "code",
   "execution_count": 23,
   "metadata": {},
   "outputs": [
    {
     "data": {
      "text/html": [
       "<div>\n",
       "<style scoped>\n",
       "    .dataframe tbody tr th:only-of-type {\n",
       "        vertical-align: middle;\n",
       "    }\n",
       "\n",
       "    .dataframe tbody tr th {\n",
       "        vertical-align: top;\n",
       "    }\n",
       "\n",
       "    .dataframe thead th {\n",
       "        text-align: right;\n",
       "    }\n",
       "</style>\n",
       "<table border=\"1\" class=\"dataframe\">\n",
       "  <thead>\n",
       "    <tr style=\"text-align: right;\">\n",
       "      <th></th>\n",
       "      <th>title</th>\n",
       "      <th>worldwide_gross</th>\n",
       "      <th>rev2bud_int</th>\n",
       "      <th>rev2bud_dom</th>\n",
       "      <th>domestic_gross</th>\n",
       "      <th>rating_z_IMDB</th>\n",
       "      <th>popularity_z</th>\n",
       "      <th>production_budget</th>\n",
       "      <th>main_director</th>\n",
       "    </tr>\n",
       "  </thead>\n",
       "  <tbody>\n",
       "    <tr>\n",
       "      <td>1898</td>\n",
       "      <td>avengers: infinity war</td>\n",
       "      <td>2048.13</td>\n",
       "      <td>6.827100</td>\n",
       "      <td>2.262733</td>\n",
       "      <td>678.82</td>\n",
       "      <td>2.194730</td>\n",
       "      <td>7.258165</td>\n",
       "      <td>300.0</td>\n",
       "      <td>Anthony Russo</td>\n",
       "    </tr>\n",
       "    <tr>\n",
       "      <td>315</td>\n",
       "      <td>the dark knight rises</td>\n",
       "      <td>1084.44</td>\n",
       "      <td>3.943418</td>\n",
       "      <td>1.629600</td>\n",
       "      <td>448.14</td>\n",
       "      <td>2.088432</td>\n",
       "      <td>1.671667</td>\n",
       "      <td>275.0</td>\n",
       "      <td>Christopher Nolan</td>\n",
       "    </tr>\n",
       "    <tr>\n",
       "      <td>65</td>\n",
       "      <td>inception</td>\n",
       "      <td>835.52</td>\n",
       "      <td>5.222000</td>\n",
       "      <td>1.828625</td>\n",
       "      <td>292.58</td>\n",
       "      <td>2.513624</td>\n",
       "      <td>5.735627</td>\n",
       "      <td>160.0</td>\n",
       "      <td>Christopher Nolan</td>\n",
       "    </tr>\n",
       "    <tr>\n",
       "      <td>2331</td>\n",
       "      <td>coco</td>\n",
       "      <td>798.01</td>\n",
       "      <td>4.560057</td>\n",
       "      <td>1.198457</td>\n",
       "      <td>209.73</td>\n",
       "      <td>2.088432</td>\n",
       "      <td>1.811387</td>\n",
       "      <td>175.0</td>\n",
       "      <td>Adrian Molina</td>\n",
       "    </tr>\n",
       "    <tr>\n",
       "      <td>1146</td>\n",
       "      <td>interstellar</td>\n",
       "      <td>666.38</td>\n",
       "      <td>4.038667</td>\n",
       "      <td>1.139515</td>\n",
       "      <td>188.02</td>\n",
       "      <td>2.301028</td>\n",
       "      <td>6.439837</td>\n",
       "      <td>165.0</td>\n",
       "      <td>Christopher Nolan</td>\n",
       "    </tr>\n",
       "    <tr>\n",
       "      <td>540</td>\n",
       "      <td>django unchained</td>\n",
       "      <td>449.95</td>\n",
       "      <td>4.499500</td>\n",
       "      <td>1.628100</td>\n",
       "      <td>162.81</td>\n",
       "      <td>2.088432</td>\n",
       "      <td>1.972565</td>\n",
       "      <td>100.0</td>\n",
       "      <td>Quentin Tarantino</td>\n",
       "    </tr>\n",
       "    <tr>\n",
       "      <td>2355</td>\n",
       "      <td>dangal</td>\n",
       "      <td>294.65</td>\n",
       "      <td>31.015789</td>\n",
       "      <td>1.304211</td>\n",
       "      <td>12.39</td>\n",
       "      <td>2.194730</td>\n",
       "      <td>0.006483</td>\n",
       "      <td>9.5</td>\n",
       "      <td>Nitesh Tiwari</td>\n",
       "    </tr>\n",
       "    <tr>\n",
       "      <td>1529</td>\n",
       "      <td>whiplash</td>\n",
       "      <td>38.97</td>\n",
       "      <td>11.809091</td>\n",
       "      <td>3.966667</td>\n",
       "      <td>13.09</td>\n",
       "      <td>2.194730</td>\n",
       "      <td>2.104483</td>\n",
       "      <td>3.3</td>\n",
       "      <td>Damien Chazelle</td>\n",
       "    </tr>\n",
       "  </tbody>\n",
       "</table>\n",
       "</div>"
      ],
      "text/plain": [
       "                       title  worldwide_gross  rev2bud_int  rev2bud_dom  \\\n",
       "1898  avengers: infinity war          2048.13     6.827100     2.262733   \n",
       "315    the dark knight rises          1084.44     3.943418     1.629600   \n",
       "65                 inception           835.52     5.222000     1.828625   \n",
       "2331                    coco           798.01     4.560057     1.198457   \n",
       "1146            interstellar           666.38     4.038667     1.139515   \n",
       "540         django unchained           449.95     4.499500     1.628100   \n",
       "2355                  dangal           294.65    31.015789     1.304211   \n",
       "1529                whiplash            38.97    11.809091     3.966667   \n",
       "\n",
       "      domestic_gross  rating_z_IMDB  popularity_z  production_budget  \\\n",
       "1898          678.82       2.194730      7.258165              300.0   \n",
       "315           448.14       2.088432      1.671667              275.0   \n",
       "65            292.58       2.513624      5.735627              160.0   \n",
       "2331          209.73       2.088432      1.811387              175.0   \n",
       "1146          188.02       2.301028      6.439837              165.0   \n",
       "540           162.81       2.088432      1.972565              100.0   \n",
       "2355           12.39       2.194730      0.006483                9.5   \n",
       "1529           13.09       2.194730      2.104483                3.3   \n",
       "\n",
       "          main_director  \n",
       "1898      Anthony Russo  \n",
       "315   Christopher Nolan  \n",
       "65    Christopher Nolan  \n",
       "2331      Adrian Molina  \n",
       "1146  Christopher Nolan  \n",
       "540   Quentin Tarantino  \n",
       "2355      Nitesh Tiwari  \n",
       "1529    Damien Chazelle  "
      ]
     },
     "execution_count": 23,
     "metadata": {},
     "output_type": "execute_result"
    }
   ],
   "source": [
    "dirdf[dirdf.rating_z_IMDB > 2].sort_values(by=['worldwide_gross'], ascending = False)"
   ]
  },
  {
   "cell_type": "markdown",
   "metadata": {},
   "source": [
    "#### Domestic"
   ]
  },
  {
   "cell_type": "code",
   "execution_count": 24,
   "metadata": {},
   "outputs": [
    {
     "data": {
      "text/html": [
       "<div>\n",
       "<style scoped>\n",
       "    .dataframe tbody tr th:only-of-type {\n",
       "        vertical-align: middle;\n",
       "    }\n",
       "\n",
       "    .dataframe tbody tr th {\n",
       "        vertical-align: top;\n",
       "    }\n",
       "\n",
       "    .dataframe thead th {\n",
       "        text-align: right;\n",
       "    }\n",
       "</style>\n",
       "<table border=\"1\" class=\"dataframe\">\n",
       "  <thead>\n",
       "    <tr style=\"text-align: right;\">\n",
       "      <th></th>\n",
       "      <th>title</th>\n",
       "      <th>worldwide_gross</th>\n",
       "      <th>rev2bud_int</th>\n",
       "      <th>rev2bud_dom</th>\n",
       "      <th>domestic_gross</th>\n",
       "      <th>rating_z_IMDB</th>\n",
       "      <th>popularity_z</th>\n",
       "      <th>production_budget</th>\n",
       "      <th>main_director</th>\n",
       "    </tr>\n",
       "  </thead>\n",
       "  <tbody>\n",
       "    <tr>\n",
       "      <td>1529</td>\n",
       "      <td>whiplash</td>\n",
       "      <td>38.97</td>\n",
       "      <td>11.809091</td>\n",
       "      <td>3.966667</td>\n",
       "      <td>13.09</td>\n",
       "      <td>2.194730</td>\n",
       "      <td>2.104483</td>\n",
       "      <td>3.3</td>\n",
       "      <td>Damien Chazelle</td>\n",
       "    </tr>\n",
       "    <tr>\n",
       "      <td>1898</td>\n",
       "      <td>avengers: infinity war</td>\n",
       "      <td>2048.13</td>\n",
       "      <td>6.827100</td>\n",
       "      <td>2.262733</td>\n",
       "      <td>678.82</td>\n",
       "      <td>2.194730</td>\n",
       "      <td>7.258165</td>\n",
       "      <td>300.0</td>\n",
       "      <td>Anthony Russo</td>\n",
       "    </tr>\n",
       "    <tr>\n",
       "      <td>65</td>\n",
       "      <td>inception</td>\n",
       "      <td>835.52</td>\n",
       "      <td>5.222000</td>\n",
       "      <td>1.828625</td>\n",
       "      <td>292.58</td>\n",
       "      <td>2.513624</td>\n",
       "      <td>5.735627</td>\n",
       "      <td>160.0</td>\n",
       "      <td>Christopher Nolan</td>\n",
       "    </tr>\n",
       "    <tr>\n",
       "      <td>315</td>\n",
       "      <td>the dark knight rises</td>\n",
       "      <td>1084.44</td>\n",
       "      <td>3.943418</td>\n",
       "      <td>1.629600</td>\n",
       "      <td>448.14</td>\n",
       "      <td>2.088432</td>\n",
       "      <td>1.671667</td>\n",
       "      <td>275.0</td>\n",
       "      <td>Christopher Nolan</td>\n",
       "    </tr>\n",
       "    <tr>\n",
       "      <td>540</td>\n",
       "      <td>django unchained</td>\n",
       "      <td>449.95</td>\n",
       "      <td>4.499500</td>\n",
       "      <td>1.628100</td>\n",
       "      <td>162.81</td>\n",
       "      <td>2.088432</td>\n",
       "      <td>1.972565</td>\n",
       "      <td>100.0</td>\n",
       "      <td>Quentin Tarantino</td>\n",
       "    </tr>\n",
       "    <tr>\n",
       "      <td>2355</td>\n",
       "      <td>dangal</td>\n",
       "      <td>294.65</td>\n",
       "      <td>31.015789</td>\n",
       "      <td>1.304211</td>\n",
       "      <td>12.39</td>\n",
       "      <td>2.194730</td>\n",
       "      <td>0.006483</td>\n",
       "      <td>9.5</td>\n",
       "      <td>Nitesh Tiwari</td>\n",
       "    </tr>\n",
       "    <tr>\n",
       "      <td>2331</td>\n",
       "      <td>coco</td>\n",
       "      <td>798.01</td>\n",
       "      <td>4.560057</td>\n",
       "      <td>1.198457</td>\n",
       "      <td>209.73</td>\n",
       "      <td>2.088432</td>\n",
       "      <td>1.811387</td>\n",
       "      <td>175.0</td>\n",
       "      <td>Adrian Molina</td>\n",
       "    </tr>\n",
       "    <tr>\n",
       "      <td>1146</td>\n",
       "      <td>interstellar</td>\n",
       "      <td>666.38</td>\n",
       "      <td>4.038667</td>\n",
       "      <td>1.139515</td>\n",
       "      <td>188.02</td>\n",
       "      <td>2.301028</td>\n",
       "      <td>6.439837</td>\n",
       "      <td>165.0</td>\n",
       "      <td>Christopher Nolan</td>\n",
       "    </tr>\n",
       "  </tbody>\n",
       "</table>\n",
       "</div>"
      ],
      "text/plain": [
       "                       title  worldwide_gross  rev2bud_int  rev2bud_dom  \\\n",
       "1529                whiplash            38.97    11.809091     3.966667   \n",
       "1898  avengers: infinity war          2048.13     6.827100     2.262733   \n",
       "65                 inception           835.52     5.222000     1.828625   \n",
       "315    the dark knight rises          1084.44     3.943418     1.629600   \n",
       "540         django unchained           449.95     4.499500     1.628100   \n",
       "2355                  dangal           294.65    31.015789     1.304211   \n",
       "2331                    coco           798.01     4.560057     1.198457   \n",
       "1146            interstellar           666.38     4.038667     1.139515   \n",
       "\n",
       "      domestic_gross  rating_z_IMDB  popularity_z  production_budget  \\\n",
       "1529           13.09       2.194730      2.104483                3.3   \n",
       "1898          678.82       2.194730      7.258165              300.0   \n",
       "65            292.58       2.513624      5.735627              160.0   \n",
       "315           448.14       2.088432      1.671667              275.0   \n",
       "540           162.81       2.088432      1.972565              100.0   \n",
       "2355           12.39       2.194730      0.006483                9.5   \n",
       "2331          209.73       2.088432      1.811387              175.0   \n",
       "1146          188.02       2.301028      6.439837              165.0   \n",
       "\n",
       "          main_director  \n",
       "1529    Damien Chazelle  \n",
       "1898      Anthony Russo  \n",
       "65    Christopher Nolan  \n",
       "315   Christopher Nolan  \n",
       "540   Quentin Tarantino  \n",
       "2355      Nitesh Tiwari  \n",
       "2331      Adrian Molina  \n",
       "1146  Christopher Nolan  "
      ]
     },
     "execution_count": 24,
     "metadata": {},
     "output_type": "execute_result"
    }
   ],
   "source": [
    "dirdf[dirdf.rating_z_IMDB > 2].sort_values(by=['rev2bud_dom'], ascending = False)"
   ]
  },
  {
   "cell_type": "code",
   "execution_count": 25,
   "metadata": {},
   "outputs": [
    {
     "data": {
      "text/html": [
       "<div>\n",
       "<style scoped>\n",
       "    .dataframe tbody tr th:only-of-type {\n",
       "        vertical-align: middle;\n",
       "    }\n",
       "\n",
       "    .dataframe tbody tr th {\n",
       "        vertical-align: top;\n",
       "    }\n",
       "\n",
       "    .dataframe thead th {\n",
       "        text-align: right;\n",
       "    }\n",
       "</style>\n",
       "<table border=\"1\" class=\"dataframe\">\n",
       "  <thead>\n",
       "    <tr style=\"text-align: right;\">\n",
       "      <th></th>\n",
       "      <th>title</th>\n",
       "      <th>worldwide_gross</th>\n",
       "      <th>rev2bud_int</th>\n",
       "      <th>rev2bud_dom</th>\n",
       "      <th>domestic_gross</th>\n",
       "      <th>rating_z_IMDB</th>\n",
       "      <th>popularity_z</th>\n",
       "      <th>production_budget</th>\n",
       "      <th>main_director</th>\n",
       "    </tr>\n",
       "  </thead>\n",
       "  <tbody>\n",
       "    <tr>\n",
       "      <td>1898</td>\n",
       "      <td>avengers: infinity war</td>\n",
       "      <td>2048.13</td>\n",
       "      <td>6.827100</td>\n",
       "      <td>2.262733</td>\n",
       "      <td>678.82</td>\n",
       "      <td>2.194730</td>\n",
       "      <td>7.258165</td>\n",
       "      <td>300.0</td>\n",
       "      <td>Anthony Russo</td>\n",
       "    </tr>\n",
       "    <tr>\n",
       "      <td>315</td>\n",
       "      <td>the dark knight rises</td>\n",
       "      <td>1084.44</td>\n",
       "      <td>3.943418</td>\n",
       "      <td>1.629600</td>\n",
       "      <td>448.14</td>\n",
       "      <td>2.088432</td>\n",
       "      <td>1.671667</td>\n",
       "      <td>275.0</td>\n",
       "      <td>Christopher Nolan</td>\n",
       "    </tr>\n",
       "    <tr>\n",
       "      <td>65</td>\n",
       "      <td>inception</td>\n",
       "      <td>835.52</td>\n",
       "      <td>5.222000</td>\n",
       "      <td>1.828625</td>\n",
       "      <td>292.58</td>\n",
       "      <td>2.513624</td>\n",
       "      <td>5.735627</td>\n",
       "      <td>160.0</td>\n",
       "      <td>Christopher Nolan</td>\n",
       "    </tr>\n",
       "    <tr>\n",
       "      <td>2331</td>\n",
       "      <td>coco</td>\n",
       "      <td>798.01</td>\n",
       "      <td>4.560057</td>\n",
       "      <td>1.198457</td>\n",
       "      <td>209.73</td>\n",
       "      <td>2.088432</td>\n",
       "      <td>1.811387</td>\n",
       "      <td>175.0</td>\n",
       "      <td>Adrian Molina</td>\n",
       "    </tr>\n",
       "    <tr>\n",
       "      <td>1146</td>\n",
       "      <td>interstellar</td>\n",
       "      <td>666.38</td>\n",
       "      <td>4.038667</td>\n",
       "      <td>1.139515</td>\n",
       "      <td>188.02</td>\n",
       "      <td>2.301028</td>\n",
       "      <td>6.439837</td>\n",
       "      <td>165.0</td>\n",
       "      <td>Christopher Nolan</td>\n",
       "    </tr>\n",
       "    <tr>\n",
       "      <td>540</td>\n",
       "      <td>django unchained</td>\n",
       "      <td>449.95</td>\n",
       "      <td>4.499500</td>\n",
       "      <td>1.628100</td>\n",
       "      <td>162.81</td>\n",
       "      <td>2.088432</td>\n",
       "      <td>1.972565</td>\n",
       "      <td>100.0</td>\n",
       "      <td>Quentin Tarantino</td>\n",
       "    </tr>\n",
       "    <tr>\n",
       "      <td>1529</td>\n",
       "      <td>whiplash</td>\n",
       "      <td>38.97</td>\n",
       "      <td>11.809091</td>\n",
       "      <td>3.966667</td>\n",
       "      <td>13.09</td>\n",
       "      <td>2.194730</td>\n",
       "      <td>2.104483</td>\n",
       "      <td>3.3</td>\n",
       "      <td>Damien Chazelle</td>\n",
       "    </tr>\n",
       "    <tr>\n",
       "      <td>2355</td>\n",
       "      <td>dangal</td>\n",
       "      <td>294.65</td>\n",
       "      <td>31.015789</td>\n",
       "      <td>1.304211</td>\n",
       "      <td>12.39</td>\n",
       "      <td>2.194730</td>\n",
       "      <td>0.006483</td>\n",
       "      <td>9.5</td>\n",
       "      <td>Nitesh Tiwari</td>\n",
       "    </tr>\n",
       "  </tbody>\n",
       "</table>\n",
       "</div>"
      ],
      "text/plain": [
       "                       title  worldwide_gross  rev2bud_int  rev2bud_dom  \\\n",
       "1898  avengers: infinity war          2048.13     6.827100     2.262733   \n",
       "315    the dark knight rises          1084.44     3.943418     1.629600   \n",
       "65                 inception           835.52     5.222000     1.828625   \n",
       "2331                    coco           798.01     4.560057     1.198457   \n",
       "1146            interstellar           666.38     4.038667     1.139515   \n",
       "540         django unchained           449.95     4.499500     1.628100   \n",
       "1529                whiplash            38.97    11.809091     3.966667   \n",
       "2355                  dangal           294.65    31.015789     1.304211   \n",
       "\n",
       "      domestic_gross  rating_z_IMDB  popularity_z  production_budget  \\\n",
       "1898          678.82       2.194730      7.258165              300.0   \n",
       "315           448.14       2.088432      1.671667              275.0   \n",
       "65            292.58       2.513624      5.735627              160.0   \n",
       "2331          209.73       2.088432      1.811387              175.0   \n",
       "1146          188.02       2.301028      6.439837              165.0   \n",
       "540           162.81       2.088432      1.972565              100.0   \n",
       "1529           13.09       2.194730      2.104483                3.3   \n",
       "2355           12.39       2.194730      0.006483                9.5   \n",
       "\n",
       "          main_director  \n",
       "1898      Anthony Russo  \n",
       "315   Christopher Nolan  \n",
       "65    Christopher Nolan  \n",
       "2331      Adrian Molina  \n",
       "1146  Christopher Nolan  \n",
       "540   Quentin Tarantino  \n",
       "1529    Damien Chazelle  \n",
       "2355      Nitesh Tiwari  "
      ]
     },
     "execution_count": 25,
     "metadata": {},
     "output_type": "execute_result"
    }
   ],
   "source": [
    "dirdf[dirdf.rating_z_IMDB > 2].sort_values(by=['domestic_gross'], ascending = False)"
   ]
  },
  {
   "cell_type": "markdown",
   "metadata": {},
   "source": [
    "### Who's the most popular?\n",
    "Based on average popularity and the ratings (in larger datasets)"
   ]
  },
  {
   "cell_type": "code",
   "execution_count": 106,
   "metadata": {},
   "outputs": [
    {
     "data": {
      "text/html": [
       "<div>\n",
       "<style scoped>\n",
       "    .dataframe tbody tr th:only-of-type {\n",
       "        vertical-align: middle;\n",
       "    }\n",
       "\n",
       "    .dataframe tbody tr th {\n",
       "        vertical-align: top;\n",
       "    }\n",
       "\n",
       "    .dataframe thead th {\n",
       "        text-align: right;\n",
       "    }\n",
       "</style>\n",
       "<table border=\"1\" class=\"dataframe\">\n",
       "  <thead>\n",
       "    <tr style=\"text-align: right;\">\n",
       "      <th></th>\n",
       "      <th>rating_z_IMDB</th>\n",
       "      <th>popularity_z</th>\n",
       "    </tr>\n",
       "    <tr>\n",
       "      <th>main_director</th>\n",
       "      <th></th>\n",
       "      <th></th>\n",
       "    </tr>\n",
       "  </thead>\n",
       "  <tbody>\n",
       "    <tr>\n",
       "      <td>Jennifer Lee</td>\n",
       "      <td>1.131750</td>\n",
       "      <td>3.820751</td>\n",
       "    </tr>\n",
       "    <tr>\n",
       "      <td>Christopher Nolan</td>\n",
       "      <td>2.115007</td>\n",
       "      <td>3.786156</td>\n",
       "    </tr>\n",
       "    <tr>\n",
       "      <td>Don Hall</td>\n",
       "      <td>1.450644</td>\n",
       "      <td>3.546309</td>\n",
       "    </tr>\n",
       "    <tr>\n",
       "      <td>Pete Docter</td>\n",
       "      <td>1.875836</td>\n",
       "      <td>3.404028</td>\n",
       "    </tr>\n",
       "    <tr>\n",
       "      <td>Anthony Russo</td>\n",
       "      <td>1.698673</td>\n",
       "      <td>2.970725</td>\n",
       "    </tr>\n",
       "    <tr>\n",
       "      <td>Peter Jackson</td>\n",
       "      <td>1.344346</td>\n",
       "      <td>2.692056</td>\n",
       "    </tr>\n",
       "    <tr>\n",
       "      <td>Patty Jenkins</td>\n",
       "      <td>1.131750</td>\n",
       "      <td>2.444396</td>\n",
       "    </tr>\n",
       "    <tr>\n",
       "      <td>Joss Whedon</td>\n",
       "      <td>1.344346</td>\n",
       "      <td>2.200739</td>\n",
       "    </tr>\n",
       "    <tr>\n",
       "      <td>Tim Miller</td>\n",
       "      <td>1.663240</td>\n",
       "      <td>1.846500</td>\n",
       "    </tr>\n",
       "    <tr>\n",
       "      <td>Adrian Molina</td>\n",
       "      <td>2.088432</td>\n",
       "      <td>1.811387</td>\n",
       "    </tr>\n",
       "    <tr>\n",
       "      <td>Michael Gracey</td>\n",
       "      <td>1.238048</td>\n",
       "      <td>1.663132</td>\n",
       "    </tr>\n",
       "    <tr>\n",
       "      <td>Rich Moore</td>\n",
       "      <td>1.238048</td>\n",
       "      <td>1.624768</td>\n",
       "    </tr>\n",
       "    <tr>\n",
       "      <td>Alejandro G. Iñárritu</td>\n",
       "      <td>1.503793</td>\n",
       "      <td>1.505550</td>\n",
       "    </tr>\n",
       "    <tr>\n",
       "      <td>Lee Unkrich</td>\n",
       "      <td>1.982134</td>\n",
       "      <td>1.402955</td>\n",
       "    </tr>\n",
       "    <tr>\n",
       "      <td>David Fincher</td>\n",
       "      <td>1.521510</td>\n",
       "      <td>1.401045</td>\n",
       "    </tr>\n",
       "  </tbody>\n",
       "</table>\n",
       "</div>"
      ],
      "text/plain": [
       "                       rating_z_IMDB  popularity_z\n",
       "main_director                                     \n",
       "Jennifer Lee                1.131750      3.820751\n",
       "Christopher Nolan           2.115007      3.786156\n",
       "Don Hall                    1.450644      3.546309\n",
       "Pete Docter                 1.875836      3.404028\n",
       "Anthony Russo               1.698673      2.970725\n",
       "Peter Jackson               1.344346      2.692056\n",
       "Patty Jenkins               1.131750      2.444396\n",
       "Joss Whedon                 1.344346      2.200739\n",
       "Tim Miller                  1.663240      1.846500\n",
       "Adrian Molina               2.088432      1.811387\n",
       "Michael Gracey              1.238048      1.663132\n",
       "Rich Moore                  1.238048      1.624768\n",
       "Alejandro G. Iñárritu       1.503793      1.505550\n",
       "Lee Unkrich                 1.982134      1.402955\n",
       "David Fincher               1.521510      1.401045"
      ]
     },
     "execution_count": 106,
     "metadata": {},
     "output_type": "execute_result"
    }
   ],
   "source": [
    "tmp = dirdf.groupby('main_director')['rating_z_IMDB', 'popularity_z'].mean()\n",
    "tmp[tmp.rating_z_IMDB > 1].sort_values(by = 'popularity_z', ascending = False)[0:15]\n",
    "# Top 15 popular directors with high average IMDB ratings"
   ]
  },
  {
   "cell_type": "markdown",
   "metadata": {},
   "source": [
    "## Writers"
   ]
  },
  {
   "cell_type": "code",
   "execution_count": 107,
   "metadata": {},
   "outputs": [
    {
     "name": "stdout",
     "output_type": "stream",
     "text": [
      "Out of 763 writers in our dataset, \n",
      "Jack Kirby is the most prolific writer with 11 movies since 2010.\n"
     ]
    }
   ],
   "source": [
    "num_films_p_writers = df.groupby('main_writer').title.count().sort_values(ascending = False)\n",
    "\n",
    "print(\"\"\"Out of {} writers in our dataset, \n",
    "{} is the most prolific writer with {} movies since 2010.\"\"\".format(len(num_films_p_writers), num_films_p_writers.index[0], num_films_p_writers[0]))\n"
   ]
  },
  {
   "cell_type": "markdown",
   "metadata": {},
   "source": [
    "### Top 10 Highest Grossing Writers"
   ]
  },
  {
   "cell_type": "code",
   "execution_count": 129,
   "metadata": {},
   "outputs": [],
   "source": [
    "writerdf = df[['title', 'worldwide_gross', 'rev2bud_int', 'rev2bud_dom', 'domestic_gross', 'rating_z_IMDB', 'popularity_z', 'production_budget', 'main_writer']]\n"
   ]
  },
  {
   "cell_type": "code",
   "execution_count": 130,
   "metadata": {},
   "outputs": [],
   "source": [
    "# Select top 20 writers with highest worldwide grossing\n",
    "top20 = writerdf.groupby('main_writer')['worldwide_gross', 'domestic_gross', 'production_budget']\\\n",
    ".sum().sort_values(by = 'worldwide_gross', ascending = False)[0:20]"
   ]
  },
  {
   "cell_type": "code",
   "execution_count": 131,
   "metadata": {},
   "outputs": [],
   "source": [
    "# For these directors, get average IMDB rating and TMDB popularity scores. \n",
    "top20_names = top20.index\n",
    "top20_subdf = writerdf[writerdf.main_writer.isin(top20_names)].groupby('main_writer')['rating_z_IMDB', 'popularity_z'].mean()\n",
    "# Merge datasets\n",
    "top20 = top20.join(top20_subdf)\n",
    "top20 = top20.reset_index()"
   ]
  },
  {
   "cell_type": "code",
   "execution_count": 126,
   "metadata": {},
   "outputs": [
    {
     "data": {
      "text/plain": [
       "<Figure size 720x432 with 0 Axes>"
      ]
     },
     "metadata": {},
     "output_type": "display_data"
    },
    {
     "data": {
      "image/png": "[encoded data removed]",
      "text/plain": [
       "<Figure size 850.125x360 with 1 Axes>"
      ]
     },
     "metadata": {
      "needs_background": "light"
     },
     "output_type": "display_data"
    }
   ],
   "source": [
    "tmp = pd.melt(top20, id_vars=['main_writer'], value_vars=['worldwide_gross', 'domestic_gross', 'production_budget'])\n",
    "\n",
    "fig = plt.figure(figsize = (10,6))\n",
    "g = sns.catplot(x=\"main_writer\", y=\"value\", hue=\"variable\", data=tmp, kind=\"bar\", palette=\"muted\", aspect = 2.)\n",
    "g.set_xticklabels(rotation=90)\n",
    "g.set(title = \"Top 20 Writers with Highest Total Worldwide Grossing\", ylabel = \"Million $\")\n",
    "plt.show()\n"
   ]
  },
  {
   "cell_type": "code",
   "execution_count": 127,
   "metadata": {},
   "outputs": [
    {
     "data": {
      "image/png": "[encoded data removed]",
      "text/plain": [
       "<Figure size 1080x432 with 2 Axes>"
      ]
     },
     "metadata": {
      "needs_background": "light"
     },
     "output_type": "display_data"
    }
   ],
   "source": [
    "fig = plt.figure(figsize = (15, 6))\n",
    "ax1 = fig.add_subplot(121)\n",
    "ax2 = fig.add_subplot(122)\n",
    "sns.barplot(top20.main_writer, top20.popularity_z, ax = ax1)\n",
    "sns.barplot(top20.main_writer, top20.rating_z_IMDB, ax = ax2)\n",
    "ax1.set_xticklabels(labels = top20.main_writer, rotation=90)\n",
    "ax2.set_xticklabels(labels = top20.main_writer, rotation=90)\n",
    "\n",
    "plt.show()"
   ]
  },
  {
   "cell_type": "markdown",
   "metadata": {},
   "source": [
    "### Who's the most popular?"
   ]
  },
  {
   "cell_type": "code",
   "execution_count": 128,
   "metadata": {},
   "outputs": [
    {
     "data": {
      "text/html": [
       "<div>\n",
       "<style scoped>\n",
       "    .dataframe tbody tr th:only-of-type {\n",
       "        vertical-align: middle;\n",
       "    }\n",
       "\n",
       "    .dataframe tbody tr th {\n",
       "        vertical-align: top;\n",
       "    }\n",
       "\n",
       "    .dataframe thead th {\n",
       "        text-align: right;\n",
       "    }\n",
       "</style>\n",
       "<table border=\"1\" class=\"dataframe\">\n",
       "  <thead>\n",
       "    <tr style=\"text-align: right;\">\n",
       "      <th></th>\n",
       "      <th>rating_z_IMDB</th>\n",
       "      <th>popularity_z</th>\n",
       "    </tr>\n",
       "    <tr>\n",
       "      <th>main_writer</th>\n",
       "      <th></th>\n",
       "      <th></th>\n",
       "    </tr>\n",
       "  </thead>\n",
       "  <tbody>\n",
       "    <tr>\n",
       "      <td>Jonathan Nolan</td>\n",
       "      <td>2.301028</td>\n",
       "      <td>6.439837</td>\n",
       "    </tr>\n",
       "    <tr>\n",
       "      <td>John August</td>\n",
       "      <td>1.025452</td>\n",
       "      <td>4.131769</td>\n",
       "    </tr>\n",
       "    <tr>\n",
       "      <td>Hans Christian Andersen</td>\n",
       "      <td>1.131750</td>\n",
       "      <td>3.820751</td>\n",
       "    </tr>\n",
       "    <tr>\n",
       "      <td>James Cameron</td>\n",
       "      <td>1.131750</td>\n",
       "      <td>3.484618</td>\n",
       "    </tr>\n",
       "    <tr>\n",
       "      <td>Simon Rich</td>\n",
       "      <td>1.875836</td>\n",
       "      <td>3.404028</td>\n",
       "    </tr>\n",
       "    <tr>\n",
       "      <td>Guillermo del Toro</td>\n",
       "      <td>1.344346</td>\n",
       "      <td>2.692056</td>\n",
       "    </tr>\n",
       "    <tr>\n",
       "      <td>Graham Moore</td>\n",
       "      <td>1.663240</td>\n",
       "      <td>2.580946</td>\n",
       "    </tr>\n",
       "    <tr>\n",
       "      <td>Phil Johnston</td>\n",
       "      <td>1.663240</td>\n",
       "      <td>2.371975</td>\n",
       "    </tr>\n",
       "    <tr>\n",
       "      <td>Drew Goddard</td>\n",
       "      <td>1.663240</td>\n",
       "      <td>2.273098</td>\n",
       "    </tr>\n",
       "    <tr>\n",
       "      <td>Raymond Carver</td>\n",
       "      <td>1.344346</td>\n",
       "      <td>2.121795</td>\n",
       "    </tr>\n",
       "    <tr>\n",
       "      <td>Rudyard Kipling</td>\n",
       "      <td>1.025452</td>\n",
       "      <td>2.040353</td>\n",
       "    </tr>\n",
       "    <tr>\n",
       "      <td>Daniel Gerson</td>\n",
       "      <td>1.184899</td>\n",
       "      <td>2.004447</td>\n",
       "    </tr>\n",
       "    <tr>\n",
       "      <td>Zak Penn</td>\n",
       "      <td>1.450644</td>\n",
       "      <td>1.955374</td>\n",
       "    </tr>\n",
       "    <tr>\n",
       "      <td>Laeta Kalogridis</td>\n",
       "      <td>1.769538</td>\n",
       "      <td>1.950254</td>\n",
       "    </tr>\n",
       "    <tr>\n",
       "      <td>Jason Katz</td>\n",
       "      <td>2.088432</td>\n",
       "      <td>1.811387</td>\n",
       "    </tr>\n",
       "  </tbody>\n",
       "</table>\n",
       "</div>"
      ],
      "text/plain": [
       "                         rating_z_IMDB  popularity_z\n",
       "main_writer                                         \n",
       "Jonathan Nolan                2.301028      6.439837\n",
       "John August                   1.025452      4.131769\n",
       "Hans Christian Andersen       1.131750      3.820751\n",
       "James Cameron                 1.131750      3.484618\n",
       "Simon Rich                    1.875836      3.404028\n",
       "Guillermo del Toro            1.344346      2.692056\n",
       "Graham Moore                  1.663240      2.580946\n",
       "Phil Johnston                 1.663240      2.371975\n",
       "Drew Goddard                  1.663240      2.273098\n",
       "Raymond Carver                1.344346      2.121795\n",
       "Rudyard Kipling               1.025452      2.040353\n",
       "Daniel Gerson                 1.184899      2.004447\n",
       "Zak Penn                      1.450644      1.955374\n",
       "Laeta Kalogridis              1.769538      1.950254\n",
       "Jason Katz                    2.088432      1.811387"
      ]
     },
     "execution_count": 128,
     "metadata": {},
     "output_type": "execute_result"
    }
   ],
   "source": [
    "tmp = writerdf.groupby('main_writer')['rating_z_IMDB', 'popularity_z'].mean()\n",
    "tmp[tmp.rating_z_IMDB > 1].sort_values(by = 'popularity_z', ascending = False)[0:15]"
   ]
  },
  {
   "cell_type": "markdown",
   "metadata": {},
   "source": [
    "## Casts"
   ]
  },
  {
   "cell_type": "markdown",
   "metadata": {},
   "source": [
    "### Top 10 Buzz Worthy Actors Internationally & Domestically "
   ]
  },
  {
   "cell_type": "code",
   "execution_count": null,
   "metadata": {},
   "outputs": [],
   "source": []
  },
  {
   "cell_type": "markdown",
   "metadata": {},
   "source": []
  }
 ],
 "metadata": {
  "kernelspec": {
   "display_name": "Python 3",
   "language": "python",
   "name": "python3"
  },
  "language_info": {
   "codemirror_mode": {
    "name": "ipython",
    "version": 3
   },
   "file_extension": ".py",
   "mimetype": "text/x-python",
   "name": "python",
   "nbconvert_exporter": "python",
   "pygments_lexer": "ipython3",
   "version": "3.7.4"
  }
 },
 "nbformat": 4,
 "nbformat_minor": 2
}
